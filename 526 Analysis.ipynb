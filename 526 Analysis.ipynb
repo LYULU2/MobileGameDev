{
 "cells": [
  {
   "cell_type": "markdown",
   "id": "2afe809d",
   "metadata": {},
   "source": [
    "## Full data"
   ]
  },
  {
   "cell_type": "markdown",
   "id": "5b9b06b5",
   "metadata": {},
   "source": [
    "### variables/packages/data input"
   ]
  },
  {
   "cell_type": "code",
   "execution_count": 30,
   "id": "a2227e9f",
   "metadata": {},
   "outputs": [],
   "source": [
    "import pandas as pd\n",
    "from pandas.io.json import json_normalize\n",
    "import json\n",
    "import numpy as np\n",
    "import matplotlib.pyplot as plt\n",
    "import matplotlib\n",
    "import matplotlib.pyplot as plt\n",
    "\n",
    "DATA_ENTRY = 9"
   ]
  },
  {
   "cell_type": "code",
   "execution_count": 31,
   "id": "e81c402c",
   "metadata": {},
   "outputs": [],
   "source": [
    "lvl_actual_names = ['Scene0', 'Scene1', 'Scene2', 'Scene3 Enemy_y', 'Scene4 Enemy chasing', \n",
    "                    'Scene5 superpower', 'Scene6 TP', 'Scene7', 'Scene8']"
   ]
  },
  {
   "cell_type": "code",
   "execution_count": 71,
   "id": "c1729536",
   "metadata": {},
   "outputs": [],
   "source": [
    "level = [\"Scene0\",\"Scene1\", \"Scene2\", \"Scene3\",\"Scene4\",\"Scene5\",\"Scene6\",\"Scene7\",\"Scene8\"]"
   ]
  },
  {
   "cell_type": "code",
   "execution_count": 2,
   "id": "120083a6",
   "metadata": {},
   "outputs": [],
   "source": [
    "with open('qaqthebest.json') as f:    \n",
    "    data = json.load(f)"
   ]
  },
  {
   "cell_type": "code",
   "execution_count": 15,
   "id": "e495811b",
   "metadata": {},
   "outputs": [],
   "source": [
    "df = pd.DataFrame(data['midtermFull'])\n",
    "df = df.T"
   ]
  },
  {
   "cell_type": "code",
   "execution_count": 4,
   "id": "164a6940",
   "metadata": {},
   "outputs": [
    {
     "data": {
      "text/html": [
       "<div>\n",
       "<style scoped>\n",
       "    .dataframe tbody tr th:only-of-type {\n",
       "        vertical-align: middle;\n",
       "    }\n",
       "\n",
       "    .dataframe tbody tr th {\n",
       "        vertical-align: top;\n",
       "    }\n",
       "\n",
       "    .dataframe thead th {\n",
       "        text-align: right;\n",
       "    }\n",
       "</style>\n",
       "<table border=\"1\" class=\"dataframe\">\n",
       "  <thead>\n",
       "    <tr style=\"text-align: right;\">\n",
       "      <th></th>\n",
       "      <th>collectBlue</th>\n",
       "      <th>collectRed</th>\n",
       "      <th>collectReducePackage</th>\n",
       "      <th>collectYellow</th>\n",
       "      <th>curDistance</th>\n",
       "      <th>numBounceEnemy</th>\n",
       "      <th>numHitEnemy</th>\n",
       "      <th>playTime</th>\n",
       "      <th>portalLockHit</th>\n",
       "      <th>resetTimes</th>\n",
       "      <th>sceneName</th>\n",
       "    </tr>\n",
       "  </thead>\n",
       "  <tbody>\n",
       "    <tr>\n",
       "      <th>0</th>\n",
       "      <td>3</td>\n",
       "      <td>0</td>\n",
       "      <td>0</td>\n",
       "      <td>3</td>\n",
       "      <td>14.044996</td>\n",
       "      <td>0</td>\n",
       "      <td>0</td>\n",
       "      <td>2.546699</td>\n",
       "      <td>0</td>\n",
       "      <td>0</td>\n",
       "      <td>Scene0</td>\n",
       "    </tr>\n",
       "    <tr>\n",
       "      <th>1</th>\n",
       "      <td>1</td>\n",
       "      <td>0</td>\n",
       "      <td>0</td>\n",
       "      <td>3</td>\n",
       "      <td>38.318474</td>\n",
       "      <td>0</td>\n",
       "      <td>0</td>\n",
       "      <td>10.101494</td>\n",
       "      <td>0</td>\n",
       "      <td>1</td>\n",
       "      <td>Scene0</td>\n",
       "    </tr>\n",
       "    <tr>\n",
       "      <th>2</th>\n",
       "      <td>3</td>\n",
       "      <td>0</td>\n",
       "      <td>0</td>\n",
       "      <td>3</td>\n",
       "      <td>44.895409</td>\n",
       "      <td>0</td>\n",
       "      <td>0</td>\n",
       "      <td>15.769625</td>\n",
       "      <td>0</td>\n",
       "      <td>0</td>\n",
       "      <td>Scene1</td>\n",
       "    </tr>\n",
       "    <tr>\n",
       "      <th>3</th>\n",
       "      <td>2</td>\n",
       "      <td>0</td>\n",
       "      <td>1</td>\n",
       "      <td>2</td>\n",
       "      <td>49.618877</td>\n",
       "      <td>0</td>\n",
       "      <td>0</td>\n",
       "      <td>18.340008</td>\n",
       "      <td>0</td>\n",
       "      <td>0</td>\n",
       "      <td>Scene1</td>\n",
       "    </tr>\n",
       "    <tr>\n",
       "      <th>4</th>\n",
       "      <td>3</td>\n",
       "      <td>0</td>\n",
       "      <td>0</td>\n",
       "      <td>3</td>\n",
       "      <td>47.059929</td>\n",
       "      <td>0</td>\n",
       "      <td>0</td>\n",
       "      <td>10.240842</td>\n",
       "      <td>0</td>\n",
       "      <td>0</td>\n",
       "      <td>Scene0</td>\n",
       "    </tr>\n",
       "  </tbody>\n",
       "</table>\n",
       "</div>"
      ],
      "text/plain": [
       "  collectBlue collectRed collectReducePackage collectYellow curDistance  \\\n",
       "0           3          0                    0             3   14.044996   \n",
       "1           1          0                    0             3   38.318474   \n",
       "2           3          0                    0             3   44.895409   \n",
       "3           2          0                    1             2   49.618877   \n",
       "4           3          0                    0             3   47.059929   \n",
       "\n",
       "  numBounceEnemy numHitEnemy   playTime portalLockHit resetTimes sceneName  \n",
       "0              0           0   2.546699             0          0    Scene0  \n",
       "1              0           0  10.101494             0          1    Scene0  \n",
       "2              0           0  15.769625             0          0    Scene1  \n",
       "3              0           0  18.340008             0          0    Scene1  \n",
       "4              0           0  10.240842             0          0    Scene0  "
      ]
     },
     "execution_count": 4,
     "metadata": {},
     "output_type": "execute_result"
    }
   ],
   "source": [
    "df.reset_index(drop=True, inplace=True)\n",
    "df.head()"
   ]
  },
  {
   "cell_type": "markdown",
   "id": "19d79240",
   "metadata": {},
   "source": [
    "### graph 1"
   ]
  },
  {
   "cell_type": "code",
   "execution_count": 5,
   "id": "2b423b70",
   "metadata": {},
   "outputs": [
    {
     "data": {
      "text/plain": [
       "sceneName\n",
       "Scene0                  10.736631\n",
       "Scene1                  18.302352\n",
       "Scene2                  23.300948\n",
       "Scene3 Enemy_y           9.525599\n",
       "Scene4 Enemy chasing     7.142124\n",
       "Scene5 superpower       10.184067\n",
       "Scene6 TP               12.789073\n",
       "Scene7                  54.056558\n",
       "Scene8                  48.632377\n",
       "Name: playTime, dtype: float64"
      ]
     },
     "execution_count": 5,
     "metadata": {},
     "output_type": "execute_result"
    }
   ],
   "source": [
    "df.groupby(\"sceneName\")[\"playTime\"].mean()"
   ]
  },
  {
   "cell_type": "code",
   "execution_count": 28,
   "id": "a07dec32",
   "metadata": {},
   "outputs": [
    {
     "data": {
      "image/png": "[encoded data removed]",
      "text/plain": [
       "<Figure size 640x480 with 1 Axes>"
      ]
     },
     "metadata": {},
     "output_type": "display_data"
    }
   ],
   "source": [
    "height = []\n",
    "for i in range(DATA_ENTRY):\n",
    "    height.append(df.groupby(\"sceneName\")[\"playTime\"].mean()[i])\n",
    "plt.bar(level, height,  color ='maroon',\n",
    "        width = 0.4)\n",
    " \n",
    "plt.xlabel(\"level\")\n",
    "plt.ylabel(\"Time spent(s)\")\n",
    "plt.title(\"Time Spent on Each Level\")\n",
    "plt.show()"
   ]
  },
  {
   "cell_type": "code",
   "execution_count": 60,
   "id": "a0e9041a",
   "metadata": {},
   "outputs": [
    {
     "data": {
      "image/png": "[encoded data removed]",
      "text/plain": [
       "<Figure size 640x480 with 1 Axes>"
      ]
     },
     "metadata": {},
     "output_type": "display_data"
    }
   ],
   "source": [
    "yellow_count = []\n",
    "blue_count = []\n",
    "\n",
    "for i in range(DATA_ENTRY):\n",
    "    blue_count.append(df.groupby(\"sceneName\")[\"collectBlue\"].mean()[i])\n",
    "    yellow_count.append(df.groupby(\"sceneName\")[\"collectYellow\"].mean()[i])\n",
    "\n",
    "index = np.arange(4)\n",
    "bar_width = 0.35\n",
    "\n",
    "fig, ax = plt.subplots()\n",
    "yellow = ax.bar(index, yellow_count, bar_width,\n",
    "                label=\"yellow ball\")\n",
    "\n",
    "blue = ax.bar(index+bar_width, blue_count,\n",
    "                 bar_width, label=\"blue ball\")\n",
    "\n",
    "ax.set_xlabel('Level')\n",
    "ax.set_ylabel('Ball Count')\n",
    "ax.set_title('Balls collected each level')\n",
    "ax.set_xticks(index + bar_width / 2)\n",
    "ax.set_xticklabels(level)\n",
    "ax.legend()\n",
    "\n",
    "plt.show()"
   ]
  },
  {
   "cell_type": "code",
   "execution_count": 61,
   "id": "5b839e64",
   "metadata": {},
   "outputs": [],
   "source": [
    "df = pd.DataFrame(data['reset'])\n",
    "df = df.T"
   ]
  },
  {
   "cell_type": "code",
   "execution_count": 62,
   "id": "bca3f5ab",
   "metadata": {},
   "outputs": [
    {
     "data": {
      "text/html": [
       "<div>\n",
       "<style scoped>\n",
       "    .dataframe tbody tr th:only-of-type {\n",
       "        vertical-align: middle;\n",
       "    }\n",
       "\n",
       "    .dataframe tbody tr th {\n",
       "        vertical-align: top;\n",
       "    }\n",
       "\n",
       "    .dataframe thead th {\n",
       "        text-align: right;\n",
       "    }\n",
       "</style>\n",
       "<table border=\"1\" class=\"dataframe\">\n",
       "  <thead>\n",
       "    <tr style=\"text-align: right;\">\n",
       "      <th></th>\n",
       "      <th>collectBlue</th>\n",
       "      <th>collectYellow</th>\n",
       "      <th>curDistance</th>\n",
       "      <th>playTime</th>\n",
       "      <th>sceneName</th>\n",
       "    </tr>\n",
       "  </thead>\n",
       "  <tbody>\n",
       "    <tr>\n",
       "      <th>0</th>\n",
       "      <td>2</td>\n",
       "      <td>6</td>\n",
       "      <td>101.277962</td>\n",
       "      <td>131.159882</td>\n",
       "      <td>Scene3</td>\n",
       "    </tr>\n",
       "    <tr>\n",
       "      <th>1</th>\n",
       "      <td>8</td>\n",
       "      <td>8</td>\n",
       "      <td>56.804665</td>\n",
       "      <td>180.679382</td>\n",
       "      <td>Scene2</td>\n",
       "    </tr>\n",
       "    <tr>\n",
       "      <th>2</th>\n",
       "      <td>5</td>\n",
       "      <td>6</td>\n",
       "      <td>28.691246</td>\n",
       "      <td>18.331591</td>\n",
       "      <td>Scene2</td>\n",
       "    </tr>\n",
       "    <tr>\n",
       "      <th>3</th>\n",
       "      <td>18</td>\n",
       "      <td>12</td>\n",
       "      <td>301.319031</td>\n",
       "      <td>105.18512</td>\n",
       "      <td>Scene3</td>\n",
       "    </tr>\n",
       "    <tr>\n",
       "      <th>4</th>\n",
       "      <td>3</td>\n",
       "      <td>3</td>\n",
       "      <td>16.553102</td>\n",
       "      <td>4.1494</td>\n",
       "      <td>Scene1</td>\n",
       "    </tr>\n",
       "  </tbody>\n",
       "</table>\n",
       "</div>"
      ],
      "text/plain": [
       "  collectBlue collectYellow curDistance    playTime sceneName\n",
       "0           2             6  101.277962  131.159882    Scene3\n",
       "1           8             8   56.804665  180.679382    Scene2\n",
       "2           5             6   28.691246   18.331591    Scene2\n",
       "3          18            12  301.319031   105.18512    Scene3\n",
       "4           3             3   16.553102      4.1494    Scene1"
      ]
     },
     "execution_count": 62,
     "metadata": {},
     "output_type": "execute_result"
    }
   ],
   "source": [
    "df.reset_index(drop=True, inplace=True)\n",
    "df.head()"
   ]
  },
  {
   "cell_type": "code",
   "execution_count": 63,
   "id": "a4dc1708",
   "metadata": {},
   "outputs": [
    {
     "data": {
      "text/plain": [
       "sceneName\n",
       "Scene1     7\n",
       "Scene2     6\n",
       "Scene3    12\n",
       "Scene4     4\n",
       "Name: playTime, dtype: int64"
      ]
     },
     "execution_count": 63,
     "metadata": {},
     "output_type": "execute_result"
    }
   ],
   "source": [
    "df.groupby(\"sceneName\")[\"playTime\"].count()"
   ]
  },
  {
   "cell_type": "code",
   "execution_count": 66,
   "id": "3b76966f",
   "metadata": {},
   "outputs": [
    {
     "data": {
      "image/png": "[encoded data removed]",
      "text/plain": [
       "<Figure size 640x480 with 1 Axes>"
      ]
     },
     "metadata": {},
     "output_type": "display_data"
    }
   ],
   "source": [
    "reset_times = []\n",
    "for i in range(DATA_ENTRY):\n",
    "    reset_times.append(df.groupby(\"sceneName\")[\"playTime\"].count()[i])\n",
    "plt.bar(level, reset_times,\n",
    "        width = 0.4)\n",
    " \n",
    "plt.xlabel(\"level\")\n",
    "plt.ylabel(\"Reset times\")\n",
    "plt.title(\"Reset times on Each Level\")\n",
    "plt.show()"
   ]
  },
  {
   "cell_type": "code",
   "execution_count": 67,
   "id": "8693fd0f",
   "metadata": {},
   "outputs": [
    {
     "data": {
      "text/plain": [
       "sceneName\n",
       "Scene1     38.770086\n",
       "Scene2     41.915103\n",
       "Scene3    326.692815\n",
       "Scene4    445.078655\n",
       "Name: curDistance, dtype: float64"
      ]
     },
     "execution_count": 67,
     "metadata": {},
     "output_type": "execute_result"
    }
   ],
   "source": [
    "df.groupby(\"sceneName\")[\"curDistance\"].mean()"
   ]
  },
  {
   "cell_type": "code",
   "execution_count": 70,
   "id": "cd10bd6f",
   "metadata": {},
   "outputs": [
    {
     "data": {
      "image/png": "[encoded data removed]",
      "text/plain": [
       "<Figure size 640x480 with 1 Axes>"
      ]
     },
     "metadata": {},
     "output_type": "display_data"
    }
   ],
   "source": [
    "dist = []\n",
    "for i in range(DATA_ENTRY):\n",
    "    dist.append(df.groupby(\"sceneName\")[\"curDistance\"].mean()[i])\n",
    "plt.bar(level, dist,color = 'orange',\n",
    "        width = 0.4)\n",
    " \n",
    "plt.xlabel(\"level\")\n",
    "plt.ylabel(\"Distance travelled\")\n",
    "plt.title(\"Distance travelled when resetting the game on each level\")\n",
    "plt.show()"
   ]
  },
  {
   "cell_type": "code",
   "execution_count": 26,
   "id": "87cc6a8a",
   "metadata": {},
   "outputs": [
    {
     "data": {
      "image/png": "[encoded data removed]",
      "text/plain": [
       "<Figure size 640x480 with 1 Axes>"
      ]
     },
     "metadata": {},
     "output_type": "display_data"
    }
   ],
   "source": [
    "play_num = []\n",
    "level_ordered = [0, 1, 5, 6, 3, 2, 4, 8, 7]\n",
    "for i in level_ordered:\n",
    "    play_num.append(df[\"sceneName\"].value_counts()[i])\n",
    "plt.bar(level, play_num,\n",
    "        width = 0.4)\n",
    " \n",
    "plt.xlabel(\"level\")\n",
    "plt.ylabel(\"finish times\")\n",
    "plt.title(\"Number of times Each Level is Finished\")\n",
    "plt.show()"
   ]
  },
  {
   "cell_type": "code",
   "execution_count": 9,
   "id": "f636d1f3",
   "metadata": {},
   "outputs": [
    {
     "data": {
      "text/plain": [
       "Scene0                  110\n",
       "Scene1                  100\n",
       "Scene5 superpower        84\n",
       "Scene4 Enemy chasing     82\n",
       "Scene6 TP                81\n",
       "Scene2                   77\n",
       "Scene3 Enemy_y           76\n",
       "Scene8                   31\n",
       "Scene7                   26\n",
       "Name: sceneName, dtype: int64"
      ]
     },
     "execution_count": 9,
     "metadata": {},
     "output_type": "execute_result"
    }
   ],
   "source": [
    "df[\"sceneName\"].value_counts()"
   ]
  },
  {
   "cell_type": "markdown",
   "id": "4c84ec90",
   "metadata": {},
   "source": [
    "### heap map"
   ]
  },
  {
   "cell_type": "code",
   "execution_count": 23,
   "id": "16c718f4",
   "metadata": {},
   "outputs": [],
   "source": [
    "def heatmap(data, row_labels, col_labels, ax=None,\n",
    "            cbar_kw=None, cbarlabel=\"\", **kwargs):\n",
    "    \"\"\"\n",
    "    Create a heatmap from a numpy array and two lists of labels.\n",
    "\n",
    "    Parameters\n",
    "    ----------\n",
    "    data\n",
    "        A 2D numpy array of shape (M, N).\n",
    "    row_labels\n",
    "        A list or array of length M with the labels for the rows.\n",
    "    col_labels\n",
    "        A list or array of length N with the labels for the columns.\n",
    "    ax\n",
    "        A `matplotlib.axes.Axes` instance to which the heatmap is plotted.  If\n",
    "        not provided, use current axes or create a new one.  Optional.\n",
    "    cbar_kw\n",
    "        A dictionary with arguments to `matplotlib.Figure.colorbar`.  Optional.\n",
    "    cbarlabel\n",
    "        The label for the colorbar.  Optional.\n",
    "    **kwargs\n",
    "        All other arguments are forwarded to `imshow`.\n",
    "    \"\"\"\n",
    "\n",
    "    if ax is None:\n",
    "        ax = plt.gca()\n",
    "\n",
    "    if cbar_kw is None:\n",
    "        cbar_kw = {}\n",
    "\n",
    "    # Plot the heatmap\n",
    "    im = ax.imshow(data, **kwargs)\n",
    "\n",
    "    # Create colorbar\n",
    "    cbar = ax.figure.colorbar(im, ax=ax, **cbar_kw)\n",
    "    cbar.ax.set_ylabel(cbarlabel, rotation=-90, va=\"bottom\")\n",
    "\n",
    "    # Show all ticks and label them with the respective list entries.\n",
    "    ax.set_xticks(np.arange(data.shape[1]), labels=col_labels)\n",
    "    ax.set_yticks(np.arange(data.shape[0]), labels=row_labels)\n",
    "\n",
    "    # Let the horizontal axes labeling appear on top.\n",
    "    ax.tick_params(top=True, bottom=False,\n",
    "                   labeltop=True, labelbottom=False)\n",
    "\n",
    "    # Rotate the tick labels and set their alignment.\n",
    "    plt.setp(ax.get_xticklabels(), rotation=-30, ha=\"right\",\n",
    "             rotation_mode=\"anchor\")\n",
    "\n",
    "    # Turn spines off and create white grid.\n",
    "    ax.spines[:].set_visible(False)\n",
    "\n",
    "    ax.set_xticks(np.arange(data.shape[1]+1)-.5, minor=True)\n",
    "    ax.set_yticks(np.arange(data.shape[0]+1)-.5, minor=True)\n",
    "    ax.grid(which=\"minor\", color=\"w\", linestyle='-', linewidth=3)\n",
    "    ax.tick_params(which=\"minor\", bottom=False, left=False)\n",
    "\n",
    "    return im, cbar\n",
    "\n",
    "\n",
    "def annotate_heatmap(im, data=None, valfmt=\"{x:.2f}\",\n",
    "                     textcolors=(\"black\", \"white\"),\n",
    "                     threshold=None, **textkw):\n",
    "    \"\"\"\n",
    "    A function to annotate a heatmap.\n",
    "\n",
    "    Parameters\n",
    "    ----------\n",
    "    im\n",
    "        The AxesImage to be labeled.\n",
    "    data\n",
    "        Data used to annotate.  If None, the image's data is used.  Optional.\n",
    "    valfmt\n",
    "        The format of the annotations inside the heatmap.  This should either\n",
    "        use the string format method, e.g. \"$ {x:.2f}\", or be a\n",
    "        `matplotlib.ticker.Formatter`.  Optional.\n",
    "    textcolors\n",
    "        A pair of colors.  The first is used for values below a threshold,\n",
    "        the second for those above.  Optional.\n",
    "    threshold\n",
    "        Value in data units according to which the colors from textcolors are\n",
    "        applied.  If None (the default) uses the middle of the colormap as\n",
    "        separation.  Optional.\n",
    "    **kwargs\n",
    "        All other arguments are forwarded to each call to `text` used to create\n",
    "        the text labels.\n",
    "    \"\"\"\n",
    "\n",
    "    if not isinstance(data, (list, np.ndarray)):\n",
    "        data = im.get_array()\n",
    "\n",
    "    # Normalize the threshold to the images color range.\n",
    "    if threshold is not None:\n",
    "        threshold = im.norm(threshold)\n",
    "    else:\n",
    "        threshold = im.norm(data.max())/2.\n",
    "\n",
    "    # Set default alignment to center, but allow it to be\n",
    "    # overwritten by textkw.\n",
    "    kw = dict(horizontalalignment=\"center\",\n",
    "              verticalalignment=\"center\")\n",
    "    kw.update(textkw)\n",
    "\n",
    "    # Get the formatter in case a string is supplied\n",
    "    if isinstance(valfmt, str):\n",
    "        valfmt = matplotlib.ticker.StrMethodFormatter(valfmt)\n",
    "\n",
    "    # Loop over the data and create a `Text` for each \"pixel\".\n",
    "    # Change the text's color depending on the data.\n",
    "    texts = []\n",
    "    for i in range(data.shape[0]):\n",
    "        for j in range(data.shape[1]):\n",
    "            kw.update(color=textcolors[int(im.norm(data[i, j]) > threshold)])\n",
    "            text = im.axes.text(j, i, valfmt(data[i, j], None), **kw)\n",
    "            texts.append(text)\n",
    "\n",
    "    return texts"
   ]
  },
  {
   "cell_type": "code",
   "execution_count": 77,
   "id": "aff8fae2",
   "metadata": {},
   "outputs": [],
   "source": [
    "time_range = [\"<20s\",\"20s~40s\", \"40s~1min\", \"1min~1.5min\",\">1.5min\"]\n",
    "bins = [0, 20, 40, 60, 90, 100000]\n",
    "\n",
    "play_time = np.empty((0,5), int)"
   ]
  },
  {
   "cell_type": "code",
   "execution_count": 78,
   "id": "caa3c785",
   "metadata": {},
   "outputs": [],
   "source": [
    "for i in range(DATA_ENTRY):\n",
    "    scene_name = lvl_actual_names[i]\n",
    "    row_added = np.array(df[df['sceneName']==scene_name]['playTime'].value_counts(bins=bins, sort=False).tolist())\n",
    "    play_time = np.append(play_time, [row_added],axis=0) "
   ]
  },
  {
   "cell_type": "code",
   "execution_count": 79,
   "id": "f774fb94",
   "metadata": {},
   "outputs": [
    {
     "data": {
      "text/plain": [
       "array([[96, 14,  0,  0,  0],\n",
       "       [64, 34,  2,  0,  0],\n",
       "       [44, 25,  4,  2,  2],\n",
       "       [73,  3,  0,  0,  0],\n",
       "       [82,  0,  0,  0,  0],\n",
       "       [80,  4,  0,  0,  0],\n",
       "       [75,  6,  0,  0,  0],\n",
       "       [ 0,  2, 17,  6,  1],\n",
       "       [ 2, 11,  8,  9,  1]])"
      ]
     },
     "execution_count": 79,
     "metadata": {},
     "output_type": "execute_result"
    }
   ],
   "source": [
    "play_time"
   ]
  },
  {
   "cell_type": "code",
   "execution_count": 80,
   "id": "36013f56",
   "metadata": {},
   "outputs": [
    {
     "data": {
      "image/png": "[encoded data removed]",
      "text/plain": [
       "<Figure size 640x480 with 2 Axes>"
      ]
     },
     "metadata": {},
     "output_type": "display_data"
    }
   ],
   "source": [
    "fig, ax = plt.subplots()\n",
    "\n",
    "im, cbar = heatmap(play_time,level,time_range, ax=ax,\n",
    "                   cmap=\"YlGn\", cbarlabel=\"number of players\")\n",
    "texts = annotate_heatmap(im, valfmt=\"{x} \")\n",
    "\n",
    "fig.tight_layout()\n",
    "plt.title(\"Heatmap of Time Spent on Each Level\")\n",
    "plt.show()"
   ]
  },
  {
   "cell_type": "markdown",
   "id": "676c92d2",
   "metadata": {},
   "source": [
    "## Reset data"
   ]
  },
  {
   "cell_type": "code",
   "execution_count": 21,
   "id": "fa20b395",
   "metadata": {},
   "outputs": [],
   "source": [
    "df_reset = pd.DataFrame(data['resetMidterm'])\n",
    "df_reset = df_reset.T"
   ]
  },
  {
   "cell_type": "code",
   "execution_count": 22,
   "id": "83b62844",
   "metadata": {},
   "outputs": [
    {
     "data": {
      "text/html": [
       "<div>\n",
       "<style scoped>\n",
       "    .dataframe tbody tr th:only-of-type {\n",
       "        vertical-align: middle;\n",
       "    }\n",
       "\n",
       "    .dataframe tbody tr th {\n",
       "        vertical-align: top;\n",
       "    }\n",
       "\n",
       "    .dataframe thead th {\n",
       "        text-align: right;\n",
       "    }\n",
       "</style>\n",
       "<table border=\"1\" class=\"dataframe\">\n",
       "  <thead>\n",
       "    <tr style=\"text-align: right;\">\n",
       "      <th></th>\n",
       "      <th>collectBlue</th>\n",
       "      <th>collectRed</th>\n",
       "      <th>collectReducePackage</th>\n",
       "      <th>collectYellow</th>\n",
       "      <th>curDistance</th>\n",
       "      <th>numBounceEnemy</th>\n",
       "      <th>numHitEnemy</th>\n",
       "      <th>playTime</th>\n",
       "      <th>sceneName</th>\n",
       "    </tr>\n",
       "  </thead>\n",
       "  <tbody>\n",
       "    <tr>\n",
       "      <th>0</th>\n",
       "      <td>3</td>\n",
       "      <td>0</td>\n",
       "      <td>0</td>\n",
       "      <td>3</td>\n",
       "      <td>85.072708</td>\n",
       "      <td>0</td>\n",
       "      <td>0</td>\n",
       "      <td>21.203413</td>\n",
       "      <td>Scene0</td>\n",
       "    </tr>\n",
       "    <tr>\n",
       "      <th>1</th>\n",
       "      <td>3</td>\n",
       "      <td>1</td>\n",
       "      <td>0</td>\n",
       "      <td>2</td>\n",
       "      <td>68.213913</td>\n",
       "      <td>0</td>\n",
       "      <td>0</td>\n",
       "      <td>30.787745</td>\n",
       "      <td>Scene2</td>\n",
       "    </tr>\n",
       "    <tr>\n",
       "      <th>2</th>\n",
       "      <td>2</td>\n",
       "      <td>1</td>\n",
       "      <td>0</td>\n",
       "      <td>3</td>\n",
       "      <td>75.178391</td>\n",
       "      <td>0</td>\n",
       "      <td>0</td>\n",
       "      <td>50.086254</td>\n",
       "      <td>Scene2</td>\n",
       "    </tr>\n",
       "    <tr>\n",
       "      <th>3</th>\n",
       "      <td>3</td>\n",
       "      <td>2</td>\n",
       "      <td>0</td>\n",
       "      <td>1</td>\n",
       "      <td>38.418503</td>\n",
       "      <td>0</td>\n",
       "      <td>0</td>\n",
       "      <td>9.339345</td>\n",
       "      <td>Scene2</td>\n",
       "    </tr>\n",
       "    <tr>\n",
       "      <th>4</th>\n",
       "      <td>3</td>\n",
       "      <td>1</td>\n",
       "      <td>0</td>\n",
       "      <td>2</td>\n",
       "      <td>34.109734</td>\n",
       "      <td>0</td>\n",
       "      <td>0</td>\n",
       "      <td>10.700724</td>\n",
       "      <td>Scene2</td>\n",
       "    </tr>\n",
       "  </tbody>\n",
       "</table>\n",
       "</div>"
      ],
      "text/plain": [
       "  collectBlue collectRed collectReducePackage collectYellow curDistance  \\\n",
       "0           3          0                    0             3   85.072708   \n",
       "1           3          1                    0             2   68.213913   \n",
       "2           2          1                    0             3   75.178391   \n",
       "3           3          2                    0             1   38.418503   \n",
       "4           3          1                    0             2   34.109734   \n",
       "\n",
       "  numBounceEnemy numHitEnemy   playTime sceneName  \n",
       "0              0           0  21.203413    Scene0  \n",
       "1              0           0  30.787745    Scene2  \n",
       "2              0           0  50.086254    Scene2  \n",
       "3              0           0   9.339345    Scene2  \n",
       "4              0           0  10.700724    Scene2  "
      ]
     },
     "execution_count": 22,
     "metadata": {},
     "output_type": "execute_result"
    }
   ],
   "source": [
    "df_reset.reset_index(drop=True, inplace=True)\n",
    "df_reset.head()"
   ]
  },
  {
   "cell_type": "code",
   "execution_count": null,
   "id": "9e03d768",
   "metadata": {},
   "outputs": [],
   "source": []
  }
 ],
 "metadata": {
  "kernelspec": {
   "display_name": "Python 3 (ipykernel)",
   "language": "python",
   "name": "python3"
  },
  "language_info": {
   "codemirror_mode": {
    "name": "ipython",
    "version": 3
   },
   "file_extension": ".py",
   "mimetype": "text/x-python",
   "name": "python",
   "nbconvert_exporter": "python",
   "pygments_lexer": "ipython3",
   "version": "3.9.13"
  }
 },
 "nbformat": 4,
 "nbformat_minor": 5
}
