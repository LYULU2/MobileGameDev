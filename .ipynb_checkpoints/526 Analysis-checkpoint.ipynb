{
 "cells": [
  {
   "cell_type": "code",
   "execution_count": 1,
   "id": "a2227e9f",
   "metadata": {},
   "outputs": [],
   "source": [
    "import pandas as pd\n",
    "from pandas.io.json import json_normalize\n",
    "import json\n",
    "import numpy as np\n",
    "import matplotlib.pyplot as plt\n",
    "\n",
    "DATA_ENTRY = 8"
   ]
  },
  {
   "cell_type": "code",
   "execution_count": 2,
   "id": "120083a6",
   "metadata": {},
   "outputs": [],
   "source": [
    "with open('qaqthebest.json') as f:    \n",
    "    data = json.load(f)"
   ]
  },
  {
   "cell_type": "code",
   "execution_count": 3,
   "id": "e495811b",
   "metadata": {},
   "outputs": [],
   "source": [
    "df = pd.DataFrame(data['midtermFull'])\n",
    "df = df.T"
   ]
  },
  {
   "cell_type": "code",
   "execution_count": 4,
   "id": "164a6940",
   "metadata": {},
   "outputs": [
    {
     "data": {
      "text/html": [
       "<div>\n",
       "<style scoped>\n",
       "    .dataframe tbody tr th:only-of-type {\n",
       "        vertical-align: middle;\n",
       "    }\n",
       "\n",
       "    .dataframe tbody tr th {\n",
       "        vertical-align: top;\n",
       "    }\n",
       "\n",
       "    .dataframe thead th {\n",
       "        text-align: right;\n",
       "    }\n",
       "</style>\n",
       "<table border=\"1\" class=\"dataframe\">\n",
       "  <thead>\n",
       "    <tr style=\"text-align: right;\">\n",
       "      <th></th>\n",
       "      <th>collectBlue</th>\n",
       "      <th>collectRed</th>\n",
       "      <th>collectReducePackage</th>\n",
       "      <th>collectYellow</th>\n",
       "      <th>curDistance</th>\n",
       "      <th>numBounceEnemy</th>\n",
       "      <th>numHitEnemy</th>\n",
       "      <th>playTime</th>\n",
       "      <th>portalLockHit</th>\n",
       "      <th>resetTimes</th>\n",
       "      <th>sceneName</th>\n",
       "    </tr>\n",
       "  </thead>\n",
       "  <tbody>\n",
       "    <tr>\n",
       "      <th>0</th>\n",
       "      <td>3</td>\n",
       "      <td>0</td>\n",
       "      <td>0</td>\n",
       "      <td>3</td>\n",
       "      <td>14.044996</td>\n",
       "      <td>0</td>\n",
       "      <td>0</td>\n",
       "      <td>2.546699</td>\n",
       "      <td>0</td>\n",
       "      <td>0</td>\n",
       "      <td>Scene0</td>\n",
       "    </tr>\n",
       "    <tr>\n",
       "      <th>1</th>\n",
       "      <td>1</td>\n",
       "      <td>0</td>\n",
       "      <td>0</td>\n",
       "      <td>3</td>\n",
       "      <td>38.318474</td>\n",
       "      <td>0</td>\n",
       "      <td>0</td>\n",
       "      <td>10.101494</td>\n",
       "      <td>0</td>\n",
       "      <td>1</td>\n",
       "      <td>Scene0</td>\n",
       "    </tr>\n",
       "    <tr>\n",
       "      <th>2</th>\n",
       "      <td>3</td>\n",
       "      <td>0</td>\n",
       "      <td>0</td>\n",
       "      <td>3</td>\n",
       "      <td>44.895409</td>\n",
       "      <td>0</td>\n",
       "      <td>0</td>\n",
       "      <td>15.769625</td>\n",
       "      <td>0</td>\n",
       "      <td>0</td>\n",
       "      <td>Scene1</td>\n",
       "    </tr>\n",
       "    <tr>\n",
       "      <th>3</th>\n",
       "      <td>2</td>\n",
       "      <td>0</td>\n",
       "      <td>1</td>\n",
       "      <td>2</td>\n",
       "      <td>49.618877</td>\n",
       "      <td>0</td>\n",
       "      <td>0</td>\n",
       "      <td>18.340008</td>\n",
       "      <td>0</td>\n",
       "      <td>0</td>\n",
       "      <td>Scene1</td>\n",
       "    </tr>\n",
       "    <tr>\n",
       "      <th>4</th>\n",
       "      <td>3</td>\n",
       "      <td>0</td>\n",
       "      <td>0</td>\n",
       "      <td>3</td>\n",
       "      <td>47.059929</td>\n",
       "      <td>0</td>\n",
       "      <td>0</td>\n",
       "      <td>10.240842</td>\n",
       "      <td>0</td>\n",
       "      <td>0</td>\n",
       "      <td>Scene0</td>\n",
       "    </tr>\n",
       "  </tbody>\n",
       "</table>\n",
       "</div>"
      ],
      "text/plain": [
       "  collectBlue collectRed collectReducePackage collectYellow curDistance  \\\n",
       "0           3          0                    0             3   14.044996   \n",
       "1           1          0                    0             3   38.318474   \n",
       "2           3          0                    0             3   44.895409   \n",
       "3           2          0                    1             2   49.618877   \n",
       "4           3          0                    0             3   47.059929   \n",
       "\n",
       "  numBounceEnemy numHitEnemy   playTime portalLockHit resetTimes sceneName  \n",
       "0              0           0   2.546699             0          0    Scene0  \n",
       "1              0           0  10.101494             0          1    Scene0  \n",
       "2              0           0  15.769625             0          0    Scene1  \n",
       "3              0           0  18.340008             0          0    Scene1  \n",
       "4              0           0  10.240842             0          0    Scene0  "
      ]
     },
     "execution_count": 4,
     "metadata": {},
     "output_type": "execute_result"
    }
   ],
   "source": [
    "df.reset_index(drop=True, inplace=True)\n",
    "df.head()"
   ]
  },
  {
   "cell_type": "code",
   "execution_count": 57,
   "id": "8bf8b8bc",
   "metadata": {},
   "outputs": [
    {
     "data": {
      "text/plain": [
       "sceneName\n",
       "Scene1     8.945131\n",
       "Scene2    10.851356\n",
       "Scene3    80.403920\n",
       "Scene4    87.381218\n",
       "Name: playTime, dtype: float64"
      ]
     },
     "execution_count": 57,
     "metadata": {},
     "output_type": "execute_result"
    }
   ],
   "source": [
    "df.groupby(\"sceneName\")[\"playTime\"].mean()"
   ]
  },
  {
   "cell_type": "code",
   "execution_count": 58,
   "id": "a07dec32",
   "metadata": {},
   "outputs": [
    {
     "data": {
      "image/png": "[encoded data removed]",
      "text/plain": [
       "<Figure size 640x480 with 1 Axes>"
      ]
     },
     "metadata": {},
     "output_type": "display_data"
    }
   ],
   "source": [
    "height = []\n",
    "for i in range(DATA_ENTRY):\n",
    "    height.append(df.groupby(\"sceneName\")[\"playTime\"].mean()[i])\n",
    "level = [\"Scene1\", \"Scene2\", \"Scene3\",\"Scene4\"]\n",
    "plt.bar(level, height,  color ='maroon',\n",
    "        width = 0.4)\n",
    " \n",
    "plt.xlabel(\"level\")\n",
    "plt.ylabel(\"Time spent(s)\")\n",
    "plt.title(\"Time Spent on Each Level\")\n",
    "plt.show()"
   ]
  },
  {
   "cell_type": "code",
   "execution_count": 5,
   "id": "2b423b70",
   "metadata": {},
   "outputs": [
    {
     "data": {
      "text/plain": [
       "sceneName\n",
       "Scene0                  10.736631\n",
       "Scene1                  18.302352\n",
       "Scene2                  23.300948\n",
       "Scene3 Enemy_y           9.525599\n",
       "Scene4 Enemy chasing     7.142124\n",
       "Scene5 superpower       10.184067\n",
       "Scene6 TP               12.789073\n",
       "Scene7                  54.056558\n",
       "Scene8                  48.632377\n",
       "Name: playTime, dtype: float64"
      ]
     },
     "execution_count": 5,
     "metadata": {},
     "output_type": "execute_result"
    }
   ],
   "source": [
    "df.groupby(\"sceneName\")[\"playTime\"].mean()"
   ]
  },
  {
   "cell_type": "code",
   "execution_count": 60,
   "id": "a0e9041a",
   "metadata": {},
   "outputs": [
    {
     "data": {
      "image/png": "[encoded data removed]",
      "text/plain": [
       "<Figure size 640x480 with 1 Axes>"
      ]
     },
     "metadata": {},
     "output_type": "display_data"
    }
   ],
   "source": [
    "level = [\"Scene1\", \"Scene2\", \"Scene3\",\"Scene4\",\"Scene5\",\"Scene6\",\"Scene7\",\"Scene8\"]\n",
    "yellow_count = []\n",
    "blue_count = []\n",
    "\n",
    "for i in range(DATA_ENTRY):\n",
    "    blue_count.append(df.groupby(\"sceneName\")[\"collectBlue\"].mean()[i])\n",
    "    yellow_count.append(df.groupby(\"sceneName\")[\"collectYellow\"].mean()[i])\n",
    "\n",
    "index = np.arange(4)\n",
    "bar_width = 0.35\n",
    "\n",
    "fig, ax = plt.subplots()\n",
    "yellow = ax.bar(index, yellow_count, bar_width,\n",
    "                label=\"yellow ball\")\n",
    "\n",
    "blue = ax.bar(index+bar_width, blue_count,\n",
    "                 bar_width, label=\"blue ball\")\n",
    "\n",
    "ax.set_xlabel('Level')\n",
    "ax.set_ylabel('Ball Count')\n",
    "ax.set_title('Balls collected each level')\n",
    "ax.set_xticks(index + bar_width / 2)\n",
    "ax.set_xticklabels(level)\n",
    "ax.legend()\n",
    "\n",
    "plt.show()"
   ]
  },
  {
   "cell_type": "code",
   "execution_count": 61,
   "id": "5b839e64",
   "metadata": {},
   "outputs": [],
   "source": [
    "df = pd.DataFrame(data['reset'])\n",
    "df = df.T"
   ]
  },
  {
   "cell_type": "code",
   "execution_count": 62,
   "id": "bca3f5ab",
   "metadata": {},
   "outputs": [
    {
     "data": {
      "text/html": [
       "<div>\n",
       "<style scoped>\n",
       "    .dataframe tbody tr th:only-of-type {\n",
       "        vertical-align: middle;\n",
       "    }\n",
       "\n",
       "    .dataframe tbody tr th {\n",
       "        vertical-align: top;\n",
       "    }\n",
       "\n",
       "    .dataframe thead th {\n",
       "        text-align: right;\n",
       "    }\n",
       "</style>\n",
       "<table border=\"1\" class=\"dataframe\">\n",
       "  <thead>\n",
       "    <tr style=\"text-align: right;\">\n",
       "      <th></th>\n",
       "      <th>collectBlue</th>\n",
       "      <th>collectYellow</th>\n",
       "      <th>curDistance</th>\n",
       "      <th>playTime</th>\n",
       "      <th>sceneName</th>\n",
       "    </tr>\n",
       "  </thead>\n",
       "  <tbody>\n",
       "    <tr>\n",
       "      <th>0</th>\n",
       "      <td>2</td>\n",
       "      <td>6</td>\n",
       "      <td>101.277962</td>\n",
       "      <td>131.159882</td>\n",
       "      <td>Scene3</td>\n",
       "    </tr>\n",
       "    <tr>\n",
       "      <th>1</th>\n",
       "      <td>8</td>\n",
       "      <td>8</td>\n",
       "      <td>56.804665</td>\n",
       "      <td>180.679382</td>\n",
       "      <td>Scene2</td>\n",
       "    </tr>\n",
       "    <tr>\n",
       "      <th>2</th>\n",
       "      <td>5</td>\n",
       "      <td>6</td>\n",
       "      <td>28.691246</td>\n",
       "      <td>18.331591</td>\n",
       "      <td>Scene2</td>\n",
       "    </tr>\n",
       "    <tr>\n",
       "      <th>3</th>\n",
       "      <td>18</td>\n",
       "      <td>12</td>\n",
       "      <td>301.319031</td>\n",
       "      <td>105.18512</td>\n",
       "      <td>Scene3</td>\n",
       "    </tr>\n",
       "    <tr>\n",
       "      <th>4</th>\n",
       "      <td>3</td>\n",
       "      <td>3</td>\n",
       "      <td>16.553102</td>\n",
       "      <td>4.1494</td>\n",
       "      <td>Scene1</td>\n",
       "    </tr>\n",
       "  </tbody>\n",
       "</table>\n",
       "</div>"
      ],
      "text/plain": [
       "  collectBlue collectYellow curDistance    playTime sceneName\n",
       "0           2             6  101.277962  131.159882    Scene3\n",
       "1           8             8   56.804665  180.679382    Scene2\n",
       "2           5             6   28.691246   18.331591    Scene2\n",
       "3          18            12  301.319031   105.18512    Scene3\n",
       "4           3             3   16.553102      4.1494    Scene1"
      ]
     },
     "execution_count": 62,
     "metadata": {},
     "output_type": "execute_result"
    }
   ],
   "source": [
    "df.reset_index(drop=True, inplace=True)\n",
    "df.head()"
   ]
  },
  {
   "cell_type": "code",
   "execution_count": 63,
   "id": "a4dc1708",
   "metadata": {},
   "outputs": [
    {
     "data": {
      "text/plain": [
       "sceneName\n",
       "Scene1     7\n",
       "Scene2     6\n",
       "Scene3    12\n",
       "Scene4     4\n",
       "Name: playTime, dtype: int64"
      ]
     },
     "execution_count": 63,
     "metadata": {},
     "output_type": "execute_result"
    }
   ],
   "source": [
    "df.groupby(\"sceneName\")[\"playTime\"].count()"
   ]
  },
  {
   "cell_type": "code",
   "execution_count": 66,
   "id": "3b76966f",
   "metadata": {},
   "outputs": [
    {
     "data": {
      "image/png": "[encoded data removed]",
      "text/plain": [
       "<Figure size 640x480 with 1 Axes>"
      ]
     },
     "metadata": {},
     "output_type": "display_data"
    }
   ],
   "source": [
    "reset_times = []\n",
    "for i in range(DATA_ENTRY):\n",
    "    reset_times.append(df.groupby(\"sceneName\")[\"playTime\"].count()[i])\n",
    "plt.bar(level, reset_times,\n",
    "        width = 0.4)\n",
    " \n",
    "plt.xlabel(\"level\")\n",
    "plt.ylabel(\"Reset times\")\n",
    "plt.title(\"Reset times on Each Level\")\n",
    "plt.show()"
   ]
  },
  {
   "cell_type": "code",
   "execution_count": 67,
   "id": "8693fd0f",
   "metadata": {},
   "outputs": [
    {
     "data": {
      "text/plain": [
       "sceneName\n",
       "Scene1     38.770086\n",
       "Scene2     41.915103\n",
       "Scene3    326.692815\n",
       "Scene4    445.078655\n",
       "Name: curDistance, dtype: float64"
      ]
     },
     "execution_count": 67,
     "metadata": {},
     "output_type": "execute_result"
    }
   ],
   "source": [
    "df.groupby(\"sceneName\")[\"curDistance\"].mean()"
   ]
  },
  {
   "cell_type": "code",
   "execution_count": 70,
   "id": "cd10bd6f",
   "metadata": {},
   "outputs": [
    {
     "data": {
      "image/png": "[encoded data removed]",
      "text/plain": [
       "<Figure size 640x480 with 1 Axes>"
      ]
     },
     "metadata": {},
     "output_type": "display_data"
    }
   ],
   "source": [
    "dist = []\n",
    "for i in range(DATA_ENTRY):\n",
    "    dist.append(df.groupby(\"sceneName\")[\"curDistance\"].mean()[i])\n",
    "plt.bar(level, dist,color = 'orange',\n",
    "        width = 0.4)\n",
    " \n",
    "plt.xlabel(\"level\")\n",
    "plt.ylabel(\"Distance travelled\")\n",
    "plt.title(\"Distance travelled when resetting the game on each level\")\n",
    "plt.show()"
   ]
  },
  {
   "cell_type": "code",
   "execution_count": null,
   "id": "87cc6a8a",
   "metadata": {},
   "outputs": [],
   "source": []
  }
 ],
 "metadata": {
  "kernelspec": {
   "display_name": "Python 3 (ipykernel)",
   "language": "python",
   "name": "python3"
  },
  "language_info": {
   "codemirror_mode": {
    "name": "ipython",
    "version": 3
   },
   "file_extension": ".py",
   "mimetype": "text/x-python",
   "name": "python",
   "nbconvert_exporter": "python",
   "pygments_lexer": "ipython3",
   "version": "3.9.13"
  }
 },
 "nbformat": 4,
 "nbformat_minor": 5
}
